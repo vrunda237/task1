{
  "nbformat": 4,
  "nbformat_minor": 0,
  "metadata": {
    "colab": {
      "name": "Untitled5.ipynb",
      "provenance": [],
      "collapsed_sections": [],
      "authorship_tag": "ABX9TyPDRmPIhGSLeyceXren0Cnf",
      "include_colab_link": true
    },
    "kernelspec": {
      "name": "python3",
      "display_name": "Python 3"
    }
  },
  "cells": [
    {
      "cell_type": "markdown",
      "metadata": {
        "id": "view-in-github",
        "colab_type": "text"
      },
      "source": [
        "<a href=\"https://colab.research.google.com/github/vrunda237/task1/blob/main/Untitled5.ipynb\" target=\"_parent\"><img src=\"https://colab.research.google.com/assets/colab-badge.svg\" alt=\"Open In Colab\"/></a>"
      ]
    },
    {
      "cell_type": "markdown",
      "metadata": {
        "id": "hF7KOgXh7qrO"
      },
      "source": [
        "# NAME : VRUNDA FATANGADE\r\n",
        "\r\n",
        "\r\n",
        ">\r\n",
        "\r\n",
        ">TASK-1: Prediction using Supervised Machine Learning\r\n",
        "\r\n",
        "> The aim of this task is to predict the percentage of a student based on the number of study hours using the Linear Regression supervised machine learning algorithm.\r\n",
        "\r\n",
        "\r\n",
        "\r\n",
        "\r\n",
        "\r\n"
      ]
    },
    {
      "cell_type": "markdown",
      "metadata": {
        "id": "GqYkg-tFUroj"
      },
      "source": [
        "Step 1: importing the dataset"
      ]
    },
    {
      "cell_type": "code",
      "metadata": {
        "id": "gMneYaswZHD8"
      },
      "source": [
        "#importing all the required libraries\r\n",
        "\r\n",
        "import numpy as np\r\n",
        "import matplotlib.pyplot as plt\r\n",
        "import pandas as pd\r\n",
        "%matplotlib inline"
      ],
      "execution_count": 2,
      "outputs": []
    },
    {
      "cell_type": "markdown",
      "metadata": {
        "id": "Fb9Ng6QqCHRo"
      },
      "source": [
        "libraries imported succesfully"
      ]
    },
    {
      "cell_type": "code",
      "metadata": {
        "id": "rAh7T0zmaBZd"
      },
      "source": [
        "#reading the dataset\r\n",
        "url = \"https://raw.githubusercontent.com/AdiPersonalWorks/Random/master/student_scores%20-%20student_scores.csv\"\r\n",
        "data=pd.read_csv(url)"
      ],
      "execution_count": 4,
      "outputs": []
    },
    {
      "cell_type": "code",
      "metadata": {
        "colab": {
          "base_uri": "https://localhost:8080/",
          "height": 198
        },
        "id": "bPNWit9baZ87",
        "outputId": "8ed6d6a7-17c1-477b-cf18-79a30bce5e49"
      },
      "source": [
        "#displaying first five rows of the datset\r\n",
        "data.head()"
      ],
      "execution_count": 5,
      "outputs": [
        {
          "output_type": "execute_result",
          "data": {
            "text/html": [
              "<div>\n",
              "<style scoped>\n",
              "    .dataframe tbody tr th:only-of-type {\n",
              "        vertical-align: middle;\n",
              "    }\n",
              "\n",
              "    .dataframe tbody tr th {\n",
              "        vertical-align: top;\n",
              "    }\n",
              "\n",
              "    .dataframe thead th {\n",
              "        text-align: right;\n",
              "    }\n",
              "</style>\n",
              "<table border=\"1\" class=\"dataframe\">\n",
              "  <thead>\n",
              "    <tr style=\"text-align: right;\">\n",
              "      <th></th>\n",
              "      <th>Hours</th>\n",
              "      <th>Scores</th>\n",
              "    </tr>\n",
              "  </thead>\n",
              "  <tbody>\n",
              "    <tr>\n",
              "      <th>0</th>\n",
              "      <td>2.5</td>\n",
              "      <td>21</td>\n",
              "    </tr>\n",
              "    <tr>\n",
              "      <th>1</th>\n",
              "      <td>5.1</td>\n",
              "      <td>47</td>\n",
              "    </tr>\n",
              "    <tr>\n",
              "      <th>2</th>\n",
              "      <td>3.2</td>\n",
              "      <td>27</td>\n",
              "    </tr>\n",
              "    <tr>\n",
              "      <th>3</th>\n",
              "      <td>8.5</td>\n",
              "      <td>75</td>\n",
              "    </tr>\n",
              "    <tr>\n",
              "      <th>4</th>\n",
              "      <td>3.5</td>\n",
              "      <td>30</td>\n",
              "    </tr>\n",
              "  </tbody>\n",
              "</table>\n",
              "</div>"
            ],
            "text/plain": [
              "   Hours  Scores\n",
              "0    2.5      21\n",
              "1    5.1      47\n",
              "2    3.2      27\n",
              "3    8.5      75\n",
              "4    3.5      30"
            ]
          },
          "metadata": {
            "tags": []
          },
          "execution_count": 5
        }
      ]
    },
    {
      "cell_type": "markdown",
      "metadata": {
        "id": "p2G8pVDnUkIv"
      },
      "source": [
        "**Step** **2** **:** **visualing** **the** **datset** \r\n",
        " \r\n",
        " now we will plot the datset to check whether is there any relation \r\n",
        "between the studyhours and scores.\r\n",
        "\r\n"
      ]
    },
    {
      "cell_type": "code",
      "metadata": {
        "colab": {
          "base_uri": "https://localhost:8080/",
          "height": 295
        },
        "id": "bQU8EB_Qbns2",
        "outputId": "e7f87949-6d67-4f64-f61c-5676c70af2ae"
      },
      "source": [
        "#plotting the dataset\r\n",
        "\r\n",
        "data.plot(x='Hours',y='Scores',style='.',color='red',markersize=7)\r\n",
        "plt.title('Hours vs Percentage')\r\n",
        "plt.xlabel('Hours Studied')\r\n",
        "plt.ylabel('Percentage Score')\r\n",
        "plt.grid()\r\n",
        "plt.show()"
      ],
      "execution_count": 7,
      "outputs": [
        {
          "output_type": "display_data",
          "data": {
            "image/png": "[encoded data removed]",
            "text/plain": [
              "<Figure size 432x288 with 1 Axes>"
            ]
          },
          "metadata": {
            "tags": [],
            "needs_background": "light"
          }
        }
      ]
    },
    {
      "cell_type": "markdown",
      "metadata": {
        "id": "r7kXFxMIY_M-"
      },
      "source": [
        "from the above graph, we can analyse that there is a linear relationship between \"hours studied\" and \"percentage score\", so we can use linear regression model to predict the further values"
      ]
    },
    {
      "cell_type": "markdown",
      "metadata": {
        "id": "O0F7nWr-ZbvJ"
      },
      "source": [
        "**step 3: Data Preparation**\r\n",
        "\r\n",
        "In this step we will divide the data into \"attributes\" (inputs) and \"labels\" (outputs). After that we will split the whole dataset into 2 parts - testing data and training data."
      ]
    },
    {
      "cell_type": "code",
      "metadata": {
        "id": "SJDpoHQQdXNu"
      },
      "source": [
        "X = data.iloc[:, :-1].values\r\n",
        "Y = data.iloc[:,1].values"
      ],
      "execution_count": null,
      "outputs": []
    },
    {
      "cell_type": "code",
      "metadata": {
        "id": "iWuYi1PbdxY6"
      },
      "source": [
        "from sklearn.model_selection import train_test_split\r\n",
        "x_train,x_test,y_train,y_test = train_test_split(X,Y,test_size=0.2, random_state=0)"
      ],
      "execution_count": null,
      "outputs": []
    },
    {
      "cell_type": "markdown",
      "metadata": {
        "id": "AXF8Y35bZ3t6"
      },
      "source": [
        "**Step 4: Training the algorithm**\r\n",
        "\r\n",
        "now we will train the algorithm using train dataset"
      ]
    },
    {
      "cell_type": "code",
      "metadata": {
        "colab": {
          "base_uri": "https://localhost:8080/"
        },
        "id": "yzpVIihNeUVD",
        "outputId": "462805f2-01ee-4788-b1bf-475cb986d47c"
      },
      "source": [
        "from sklearn.linear_model import LinearRegression\r\n",
        "\r\n",
        "model = LinearRegression()\r\n",
        "model.fit(x_train,y_train)"
      ],
      "execution_count": null,
      "outputs": [
        {
          "output_type": "execute_result",
          "data": {
            "text/plain": [
              "LinearRegression(copy_X=True, fit_intercept=True, n_jobs=None, normalize=False)"
            ]
          },
          "metadata": {
            "tags": []
          },
          "execution_count": 14
        }
      ]
    },
    {
      "cell_type": "markdown",
      "metadata": {
        "id": "KnWUyFfpaQTF"
      },
      "source": [
        "**Step 5: Visualization of model**\r\n",
        "\r\n",
        "plotting the training data"
      ]
    },
    {
      "cell_type": "code",
      "metadata": {
        "colab": {
          "base_uri": "https://localhost:8080/",
          "height": 279
        },
        "id": "Z3rVptD0enFv",
        "outputId": "2ad9168a-be74-411c-874f-fa408c1443d0"
      },
      "source": [
        "line = model.coef_*X + model.intercept_\r\n",
        "\r\n",
        "plt.scatter(x_train,y_train,color ='red')\r\n",
        "plt.plot(X,line,color='green');\r\n",
        "plt.xlabel('Hours Studied')\r\n",
        "plt.ylabel('Percentage Score')\r\n",
        "plt.grid()\r\n",
        "plt.show()"
      ],
      "execution_count": null,
      "outputs": [
        {
          "output_type": "display_data",
          "data": {
            "image/png": "[encoded data removed]",
            "text/plain": [
              "<Figure size 432x288 with 1 Axes>"
            ]
          },
          "metadata": {
            "tags": [],
            "needs_background": "light"
          }
        }
      ]
    },
    {
      "cell_type": "code",
      "metadata": {
        "colab": {
          "base_uri": "https://localhost:8080/",
          "height": 279
        },
        "id": "gCuYmUV4f-91",
        "outputId": "0dbcee92-61db-4317-b1c4-043ae7625192"
      },
      "source": [
        "#plotting the test data\r\n",
        "\r\n",
        "plt.scatter(x_test,y_test,color='blue')\r\n",
        "plt.plot(X,line,color='green');\r\n",
        "plt.xlabel('Hours Studied')\r\n",
        "plt.ylabel('Percentage Score')\r\n",
        "plt.grid()\r\n",
        "plt.show()"
      ],
      "execution_count": null,
      "outputs": [
        {
          "output_type": "display_data",
          "data": {
            "image/png": "[encoded data removed]",
            "text/plain": [
              "<Figure size 432x288 with 1 Axes>"
            ]
          },
          "metadata": {
            "tags": [],
            "needs_background": "light"
          }
        }
      ]
    },
    {
      "cell_type": "markdown",
      "metadata": {
        "id": "IwPedQO2aqhz"
      },
      "source": [
        "**step 6: prediction of further values**"
      ]
    },
    {
      "cell_type": "code",
      "metadata": {
        "colab": {
          "base_uri": "https://localhost:8080/",
          "height": 195
        },
        "id": "EDyloUetgeOo",
        "outputId": "7a18c365-b1f6-428a-8db0-9fbb21e6f3fc"
      },
      "source": [
        "y_predicted = model.predict(x_test)\r\n",
        "\r\n",
        "df = pd.DataFrame({'Actual Score ':y_test,'Predicted Score':y_predicted})\r\n",
        "df"
      ],
      "execution_count": null,
      "outputs": [
        {
          "output_type": "execute_result",
          "data": {
            "text/html": [
              "<div>\n",
              "<style scoped>\n",
              "    .dataframe tbody tr th:only-of-type {\n",
              "        vertical-align: middle;\n",
              "    }\n",
              "\n",
              "    .dataframe tbody tr th {\n",
              "        vertical-align: top;\n",
              "    }\n",
              "\n",
              "    .dataframe thead th {\n",
              "        text-align: right;\n",
              "    }\n",
              "</style>\n",
              "<table border=\"1\" class=\"dataframe\">\n",
              "  <thead>\n",
              "    <tr style=\"text-align: right;\">\n",
              "      <th></th>\n",
              "      <th>Actual Score</th>\n",
              "      <th>Predicted Score</th>\n",
              "    </tr>\n",
              "  </thead>\n",
              "  <tbody>\n",
              "    <tr>\n",
              "      <th>0</th>\n",
              "      <td>20</td>\n",
              "      <td>16.884145</td>\n",
              "    </tr>\n",
              "    <tr>\n",
              "      <th>1</th>\n",
              "      <td>27</td>\n",
              "      <td>33.732261</td>\n",
              "    </tr>\n",
              "    <tr>\n",
              "      <th>2</th>\n",
              "      <td>69</td>\n",
              "      <td>75.357018</td>\n",
              "    </tr>\n",
              "    <tr>\n",
              "      <th>3</th>\n",
              "      <td>30</td>\n",
              "      <td>26.794801</td>\n",
              "    </tr>\n",
              "    <tr>\n",
              "      <th>4</th>\n",
              "      <td>62</td>\n",
              "      <td>60.491033</td>\n",
              "    </tr>\n",
              "  </tbody>\n",
              "</table>\n",
              "</div>"
            ],
            "text/plain": [
              "   Actual Score   Predicted Score\n",
              "0             20        16.884145\n",
              "1             27        33.732261\n",
              "2             69        75.357018\n",
              "3             30        26.794801\n",
              "4             62        60.491033"
            ]
          },
          "metadata": {
            "tags": []
          },
          "execution_count": 20
        }
      ]
    },
    {
      "cell_type": "markdown",
      "metadata": {
        "id": "ujGz8i4NazPC"
      },
      "source": [
        "**step 7: Evaluating the model**\r\n",
        "\r\n",
        "in this step, we will predict the score for given no of study hours. "
      ]
    },
    {
      "cell_type": "code",
      "metadata": {
        "id": "L7JvNMMHhA9Z"
      },
      "source": [
        "hours=9.25\r\n",
        "own_pred = model.predict([[hours]])\r\n",
        "print(\"The predicted score if a person studies for \",hours,\"hours is \",own_pred[0])\r\n"
      ],
      "execution_count": null,
      "outputs": []
    },
    {
      "cell_type": "markdown",
      "metadata": {
        "id": "zdzJAx2KbQ97"
      },
      "source": [
        "**ANSWER: The predicted score if a person studies for  9.25 hours is  93.69173248737539**"
      ]
    },
    {
      "cell_type": "code",
      "metadata": {
        "colab": {
          "base_uri": "https://localhost:8080/"
        },
        "id": "CSBdzaovh4Es",
        "outputId": "aa8657c4-0319-4638-de97-68b6e7840454"
      },
      "source": [
        "from sklearn import metrics\r\n",
        "\r\n",
        "print('mean absolute error:',metrics.mean_absolute_error(y_test,y_predicted))"
      ],
      "execution_count": null,
      "outputs": [
        {
          "output_type": "stream",
          "text": [
            "mean absolute error: 4.183859899002982\n"
          ],
          "name": "stdout"
        }
      ]
    }
  ]
}